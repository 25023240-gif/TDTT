{
 "cells": [
  {
   "cell_type": "code",
   "execution_count": 2,
   "id": "648317ba-ed62-4dff-aec2-05cfa433ece8",
   "metadata": {},
   "outputs": [
    {
     "name": "stdin",
     "output_type": "stream",
     "text": [
      " 18\n"
     ]
    },
    {
     "name": "stdout",
     "output_type": "stream",
     "text": [
      "36\n"
     ]
    }
   ],
   "source": [
    "#bai1\n",
    "a = int(input())\n",
    "print(2*a)"
   ]
  },
  {
   "cell_type": "code",
   "execution_count": 6,
   "id": "f7c3d6db-b41d-4479-b641-4261fa4a9468",
   "metadata": {},
   "outputs": [
    {
     "name": "stdin",
     "output_type": "stream",
     "text": [
      " 3\n",
      " 6\n"
     ]
    },
    {
     "name": "stdout",
     "output_type": "stream",
     "text": [
      "49.46\n"
     ]
    }
   ],
   "source": [
    "#bai2\n",
    "a = float(input())\n",
    "b = float(input())\n",
    "S = (a*b-(a/2)**2)*3.14\n",
    "print(\"%.2f\" % S)"
   ]
  },
  {
   "cell_type": "code",
   "execution_count": 23,
   "id": "6170d5cf-01e8-43fc-bab3-5ca45ebb0e99",
   "metadata": {},
   "outputs": [
    {
     "name": "stdin",
     "output_type": "stream",
     "text": [
      " h\n"
     ]
    },
    {
     "name": "stdout",
     "output_type": "stream",
     "text": [
      "H\n"
     ]
    }
   ],
   "source": [
    "#bai3\n",
    "c = input()\n",
    "if c.isupper():\n",
    "   print(c.lower())\n",
    "else: \n",
    "   print(c.upper())"
   ]
  },
  {
   "cell_type": "code",
   "execution_count": 25,
   "id": "26ffe123-2c5c-4549-9d5d-6142290af148",
   "metadata": {},
   "outputs": [
    {
     "name": "stdin",
     "output_type": "stream",
     "text": [
      " a\n"
     ]
    },
    {
     "name": "stdout",
     "output_type": "stream",
     "text": [
      "{c} là kí tự alphabet\n"
     ]
    }
   ],
   "source": [
    "#bai4\n",
    "c = input()\n",
    "if c.isalpha():\n",
    "    print(\"{c} là kí tự alphabet\")\n",
    "else:\n",
    "    print(\"{c} không phải là kí tự alphabet\")\n"
   ]
  },
  {
   "cell_type": "code",
   "execution_count": null,
   "id": "f4d47e82-6cfa-4297-8f80-a0903380c95a",
   "metadata": {},
   "outputs": [],
   "source": [
    "#bai5\n"
   ]
  },
  {
   "cell_type": "code",
   "execution_count": 1,
   "id": "1f3da23c-08a2-40e2-87e8-4a246d2502f9",
   "metadata": {},
   "outputs": [
    {
     "name": "stdin",
     "output_type": "stream",
     "text": [
      " 5\n",
      " 6\n",
      " 8\n"
     ]
    },
    {
     "name": "stdout",
     "output_type": "stream",
     "text": [
      "14.981238266578634\n"
     ]
    }
   ],
   "source": [
    "#bai6\n",
    "a = float(input())\n",
    "b = float(input())\n",
    "c = float(input())\n",
    "p = (a+b+c)/2\n",
    "S = (p*(p-a)*(p-b)*(p-c))**0.5\n",
    "if a+b>=c:\n",
    "    print(S)\n",
    "else:\n",
    "    print(\"Khong phai 3 canh cua tam giac\")\n",
    "    \n",
    "\n"
   ]
  },
  {
   "cell_type": "code",
   "execution_count": 1,
   "id": "8c6df223-f206-49ff-a958-9344e9a714c3",
   "metadata": {},
   "outputs": [
    {
     "name": "stdin",
     "output_type": "stream",
     "text": [
      " thiphaigiiphaichiuuuu\n"
     ]
    },
    {
     "name": "stdout",
     "output_type": "stream",
     "text": [
      "a\n",
      "i\n"
     ]
    }
   ],
   "source": [
    "#bai7\n",
    "chuoi = input()\n",
    "ki_tu_thu_5 = chuoi[5]\n",
    "ki_tu_thu_9 = chuoi[9]\n",
    "if len(chuoi)>= 20:\n",
    "    print(ki_tu_thu_5)\n",
    "    print(ki_tu_thu_9)\n",
    "else:\n",
    "    print(\"ko thoa man chuoi lon hon hoac bang 20 ki tu\")"
   ]
  },
  {
   "cell_type": "code",
   "execution_count": 7,
   "id": "98d705f5-4783-4063-8d80-56caa24e6157",
   "metadata": {},
   "outputs": [
    {
     "name": "stdin",
     "output_type": "stream",
     "text": [
      " a\n",
      " 1980\n",
      " 1360\n"
     ]
    },
    {
     "name": "stdout",
     "output_type": "stream",
     "text": [
      "a\n",
      "129276.0\n"
     ]
    }
   ],
   "source": [
    "#bai8\n",
    "name = input()\n",
    "chisomoi = int(input())\n",
    "chisocu = int(input())\n",
    "if chisocu > chisomoi:\n",
    "    print(\"loi\")\n",
    "else:\n",
    "    sodien = chisomoi-chisocu\n",
    "    tongtien = tiendien + tiendien*0.08\n",
    "    if sodien <= 50:\n",
    "        tiendien = sodien*1984\n",
    "    elif sodien <= 100:\n",
    "        tiendien = 50*1984 + (sodien-50)*2050    \n",
    "    elif sodien <= 200:\n",
    "        tiendien = 50*1984 + 50*2050 + (sodien-100)*2380\n",
    "    elif sodien <= 300:\n",
    "        tiendien = 50*1984 + 50*2050 + 100*2380 + (sodien - 200)*2998\n",
    "    elif sodien <= 400:\n",
    "        tiendien = 50*1984 + 50*2050 + 100*2380 + 100*2998 + (sodien-300)*3350\n",
    "    elif sodien > 400:\n",
    "        tiendien = 50*1984 + 50*2050 + 100*2380 + 100*2998 + (sodien-400)*3460\n",
    "\n",
    "    print(name)\n",
    "    print(tongtien)\n",
    "        \n"
   ]
  },
  {
   "cell_type": "code",
   "execution_count": 8,
   "id": "05261237-891d-4a92-b843-11782f94b600",
   "metadata": {},
   "outputs": [
    {
     "name": "stdin",
     "output_type": "stream",
     "text": [
      " 9\n"
     ]
    },
    {
     "name": "stdout",
     "output_type": "stream",
     "text": [
      "odd\n"
     ]
    }
   ],
   "source": [
    "#baitapkhac\n",
    "#bai1\n",
    "a = int(input())\n",
    "if a%2==0:\n",
    "    print(\"even\")\n",
    "else:\n",
    "    print(\"odd\")"
   ]
  },
  {
   "cell_type": "code",
   "execution_count": 11,
   "id": "062c52e4-0a90-4f62-83f6-8f6c44faf8bb",
   "metadata": {},
   "outputs": [
    {
     "name": "stdin",
     "output_type": "stream",
     "text": [
      " 125\n"
     ]
    },
    {
     "name": "stdout",
     "output_type": "stream",
     "text": [
      "true\n"
     ]
    }
   ],
   "source": [
    "#bai2\n",
    "a = int(input())\n",
    "if a % 10 ==5:\n",
    "    print(\"true\")\n",
    "else:\n",
    "    print(\"false\")"
   ]
  },
  {
   "cell_type": "code",
   "execution_count": 17,
   "id": "d2185a41-7856-4a70-95ff-970cee5f135c",
   "metadata": {},
   "outputs": [
    {
     "name": "stdin",
     "output_type": "stream",
     "text": [
      " 15\n"
     ]
    },
    {
     "name": "stdout",
     "output_type": "stream",
     "text": [
      "true\n"
     ]
    }
   ],
   "source": [
    "#bai3\n",
    "a = int(input())\n",
    "if a%3==0 and a%5==0:\n",
    "    print(\"true\")\n",
    "else:\n",
    "    print(\"false\")"
   ]
  },
  {
   "cell_type": "code",
   "execution_count": 20,
   "id": "8c5197e8-7dc0-40c4-b417-bcd4ebd73c14",
   "metadata": {},
   "outputs": [
    {
     "name": "stdin",
     "output_type": "stream",
     "text": [
      " 2007\n"
     ]
    },
    {
     "name": "stdout",
     "output_type": "stream",
     "text": [
      "du dieu kien bau cu\n"
     ]
    }
   ],
   "source": [
    "#bai4\n",
    "a = int(input())\n",
    "b = 2025-a\n",
    "if b>=18:\n",
    "    print(\"du dieu kien bau cu\")\n",
    "else:\n",
    "    print(\"khong du dieu kien bau cau\")"
   ]
  },
  {
   "cell_type": "code",
   "execution_count": 9,
   "id": "03d32faa-7a85-418c-b2b9-5111c7eddd0a",
   "metadata": {},
   "outputs": [
    {
     "name": "stdin",
     "output_type": "stream",
     "text": [
      " 5\n",
      " 6\n"
     ]
    },
    {
     "name": "stdout",
     "output_type": "stream",
     "text": [
      "6.0\n"
     ]
    }
   ],
   "source": [
    "#bai5\n",
    "a = float(input())\n",
    "b = float(input())\n",
    "if a>b:\n",
    "    print(a)\n",
    "elif b>a:\n",
    "    print(b)\n",
    "else:\n",
    "    print(\"2 so bang nhau\")"
   ]
  },
  {
   "cell_type": "code",
   "execution_count": 18,
   "id": "88774d96-9a79-44a1-ab04-8933f0f1d496",
   "metadata": {},
   "outputs": [
    {
     "name": "stdin",
     "output_type": "stream",
     "text": [
      " 36\n"
     ]
    },
    {
     "name": "stdout",
     "output_type": "stream",
     "text": [
      "chu so\n"
     ]
    }
   ],
   "source": [
    "#bai6\n",
    "a = input()  \n",
    "if a.isalpha():\n",
    "    print(\"chu cai\")\n",
    "elif a.isdigit():\n",
    "    print(\"chu so\")\n",
    "else:\n",
    "    print(\"khong phai chu cai va chu so\")"
   ]
  },
  {
   "cell_type": "code",
   "execution_count": 16,
   "id": "67edad0a-92a9-4cc6-9d3a-a75c9e1b6934",
   "metadata": {},
   "outputs": [
    {
     "name": "stdin",
     "output_type": "stream",
     "text": [
      " 3.6\n"
     ]
    },
    {
     "name": "stdout",
     "output_type": "stream",
     "text": [
      "yeu\n"
     ]
    }
   ],
   "source": [
    "#bai7\n",
    "a = float(input())\n",
    "if a>=8:\n",
    "    print(\"gioi\")\n",
    "if 6.5<=a<8:\n",
    "    print(\"kha\")\n",
    "if 5<=a<6.5:\n",
    "    print(\"trung binh\")\n",
    "else:\n",
    "    print(\"yeu\")\n",
    "\n"
   ]
  },
  {
   "cell_type": "code",
   "execution_count": 24,
   "id": "3e014c06-70d4-441b-8004-c1db180a3e57",
   "metadata": {},
   "outputs": [
    {
     "name": "stdin",
     "output_type": "stream",
     "text": [
      " 36\n"
     ]
    },
    {
     "name": "stdout",
     "output_type": "stream",
     "text": [
      "nam nhuan\n"
     ]
    }
   ],
   "source": [
    "#bai8\n",
    "a = int(input())\n",
    "if a % 400 ==0:\n",
    "    print(\"nam nhuan\")\n",
    "if a % 4 ==0 and a % 100 !=0:\n",
    "    print(\"nam nhuan\")\n",
    "else:\n",
    "    print(\"khong phai nam nhuan\")\n"
   ]
  },
  {
   "cell_type": "code",
   "execution_count": null,
   "id": "fb07d6d2-c1bf-4df5-8c63-247d30ad7abc",
   "metadata": {},
   "outputs": [],
   "source": [
    "#bai9\n"
   ]
  },
  {
   "cell_type": "code",
   "execution_count": 26,
   "id": "99bd9e23-0092-4cbf-b703-b7228e5e255c",
   "metadata": {},
   "outputs": [
    {
     "name": "stdin",
     "output_type": "stream",
     "text": [
      " 9\n"
     ]
    },
    {
     "name": "stdout",
     "output_type": "stream",
     "text": [
      "qua mon\n"
     ]
    }
   ],
   "source": [
    "#bai10\n",
    "a = float(input())\n",
    "if a>=4:\n",
    "    print(\"qua mon\")\n",
    "else:\n",
    "    print(\"hoc lai\")\n",
    "    "
   ]
  },
  {
   "cell_type": "code",
   "execution_count": 29,
   "id": "2de93e8a-f93b-4239-af2e-d6bed380b3b5",
   "metadata": {},
   "outputs": [
    {
     "name": "stdin",
     "output_type": "stream",
     "text": [
      " 2007\n"
     ]
    },
    {
     "name": "stdout",
     "output_type": "stream",
     "text": [
      "18\n",
      "da du 18 tuoi\n"
     ]
    }
   ],
   "source": [
    "#bai11\n",
    "a = int(input())\n",
    "b = 2025-a\n",
    "if b>=18:\n",
    "    print(b)\n",
    "    print(\"da du 18 tuoi\")\n",
    "else:\n",
    "    print(\"chua du 18 tuoi\")"
   ]
  },
  {
   "cell_type": "code",
   "execution_count": null,
   "id": "52f11650-f140-4a09-89be-5f5a7c4e9628",
   "metadata": {},
   "outputs": [],
   "source": []
  }
 ],
 "metadata": {
  "kernelspec": {
   "display_name": "Python 3 (ipykernel)",
   "language": "python",
   "name": "python3"
  },
  "language_info": {
   "codemirror_mode": {
    "name": "ipython",
    "version": 3
   },
   "file_extension": ".py",
   "mimetype": "text/x-python",
   "name": "python",
   "nbconvert_exporter": "python",
   "pygments_lexer": "ipython3",
   "version": "3.13.7"
  }
 },
 "nbformat": 4,
 "nbformat_minor": 5
}
