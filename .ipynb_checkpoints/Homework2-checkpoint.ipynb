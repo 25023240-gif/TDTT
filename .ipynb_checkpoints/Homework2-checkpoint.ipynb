{
 "cells": [
  {
   "cell_type": "code",
   "execution_count": 1,
   "id": "48f574d5-cb8f-44b1-add6-23d57774f0c3",
   "metadata": {},
   "outputs": [
    {
     "name": "stdin",
     "output_type": "stream",
     "text": [
      " 15\n",
      " 20\n"
     ]
    },
    {
     "name": "stdout",
     "output_type": "stream",
     "text": [
      "300 70\n"
     ]
    }
   ],
   "source": [
    "#bai1\n",
    "a = float(input())\n",
    "b = float(input())\n",
    "S = a*b\n",
    "P = (a+b)*2\n",
    "print(S,P)\n"
   ]
  },
  {
   "cell_type": "code",
   "execution_count": 3,
   "id": "f3267851-8408-4864-a714-12bad7e70978",
   "metadata": {},
   "outputs": [
    {
     "name": "stdin",
     "output_type": "stream",
     "text": [
      " 8\n"
     ]
    },
    {
     "name": "stdout",
     "output_type": "stream",
     "text": [
      "200.96 50.24\n"
     ]
    }
   ],
   "source": [
    "#bai2\n",
    "r = float(input())\n",
    "S = 3.14*r**2\n",
    "P = 2*3.14*r\n",
    "print(S,P)"
   ]
  },
  {
   "cell_type": "code",
   "execution_count": 7,
   "id": "3b067c4a-b1d4-4234-a5a8-1b12b8a47f09",
   "metadata": {},
   "outputs": [
    {
     "name": "stdin",
     "output_type": "stream",
     "text": [
      " 3 4 5\n"
     ]
    },
    {
     "name": "stdout",
     "output_type": "stream",
     "text": [
      "tam giac vuong\n",
      "12.0 6.0\n"
     ]
    }
   ],
   "source": [
    "#bai3\n",
    "a,b,c = map(float,(input().split()))\n",
    "if a+b<=c or a+c<=b or b+c<=a:\n",
    "    print(\"khong phai tam giac\")\n",
    "else:\n",
    "    if a==b==c:\n",
    "        print(\"tam giac deu\")\n",
    "    elif a==b or a==c or b==c:\n",
    "        print(\"tam giac can\")\n",
    "    elif a**2 +b**2==c**2 or a**2 + c**2==b**2 or b**2+c**2==a**2:\n",
    "        print(\"tam giac vuong\")\n",
    "    else: \n",
    "        print(\"tam giac thuong\")\n",
    "C = a+b+c\n",
    "p = (a+b+c)/2\n",
    "S = (p*(p-a)*(p-b)*(p-c))**(1/2)\n",
    "print(C,S)"
   ]
  },
  {
   "cell_type": "code",
   "execution_count": 6,
   "id": "a3e84db8-5679-4fcb-a8d9-edd4da5f4d21",
   "metadata": {},
   "outputs": [
    {
     "name": "stdin",
     "output_type": "stream",
     "text": [
      " 3\n",
      " 6\n"
     ]
    },
    {
     "name": "stdout",
     "output_type": "stream",
     "text": [
      "-2.0\n"
     ]
    }
   ],
   "source": [
    "#bai4\n",
    "a = float(input())\n",
    "b = float(input())\n",
    "if a==0:\n",
    "    if b==0:\n",
    "        print(\"pt vo so nghiem\")\n",
    "    if b!=0:\n",
    "        print(\"pt vo nghiem\")\n",
    "else:\n",
    "    x=-b/a\n",
    "print(x)"
   ]
  },
  {
   "cell_type": "code",
   "execution_count": 14,
   "id": "ecaf003a-2f0c-48ee-b3f5-08e6f11748e5",
   "metadata": {},
   "outputs": [
    {
     "name": "stdin",
     "output_type": "stream",
     "text": [
      " 1\n",
      " -3\n",
      " -4\n"
     ]
    },
    {
     "name": "stdout",
     "output_type": "stream",
     "text": [
      "x1 = 4.0\n",
      "x2 = -1.0\n"
     ]
    }
   ],
   "source": [
    "#bai5\n",
    "a = float(input())\n",
    "b = float(input())\n",
    "c = float(input())\n",
    "delta = b**2-4*a*c\n",
    "if delta>0:\n",
    "    x1 = (-b+(delta)**(0.5))/2*a \n",
    "    x2 = (-b-(delta)**(0.5))/2*a \n",
    "    print(\"x1 =\", x1)\n",
    "    print(\"x2 =\", x2)\n",
    "elif delta==0:\n",
    "    x = -b/2*a\n",
    "    print(x)\n",
    "else:\n",
    "    print(\"pt vo nghiem\")"
   ]
  },
  {
   "cell_type": "code",
   "execution_count": 19,
   "id": "b14b2386-db3d-4646-8786-0598e558fb0d",
   "metadata": {},
   "outputs": [
    {
     "name": "stdin",
     "output_type": "stream",
     "text": [
      " 1 8 3 6\n"
     ]
    },
    {
     "name": "stdout",
     "output_type": "stream",
     "text": [
      "8.0\n"
     ]
    }
   ],
   "source": [
    "#bai6\n",
    "a,b,c,d = map(float,input().split())\n",
    "print (max(a,b,c,d))"
   ]
  },
  {
   "cell_type": "code",
   "execution_count": 20,
   "id": "0e2ad786-f3be-45a6-8622-15ee97e356bf",
   "metadata": {},
   "outputs": [
    {
     "name": "stdin",
     "output_type": "stream",
     "text": [
      " 2 9 78 7\n"
     ]
    },
    {
     "name": "stdout",
     "output_type": "stream",
     "text": [
      "2.0\n"
     ]
    }
   ],
   "source": [
    "#bai7\n",
    "a,b,c,d = map(float,input().split())\n",
    "print (min(a,b,c,d))"
   ]
  },
  {
   "cell_type": "code",
   "execution_count": 20,
   "id": "eab9bd2c-ccd2-4287-a26b-87163758f8c7",
   "metadata": {},
   "outputs": [
    {
     "name": "stdin",
     "output_type": "stream",
     "text": [
      " 1 3 5\n",
      " 2 8 7\n"
     ]
    },
    {
     "name": "stdout",
     "output_type": "stream",
     "text": [
      "x = 9.5\n",
      "y = -1.5\n"
     ]
    }
   ],
   "source": [
    "#bai8\n",
    "a,b,m = map(float,input().split())\n",
    "c,d,n = map(float,input().split())\n",
    "D = a*d - b*c\n",
    "Dx = m*d - b*n\n",
    "Dy = a*n - m*c\n",
    "if D == 0:\n",
    "    if Dx == 0 and Dy == 0:\n",
    "        print(\"He phuong trinh vo so nghiem:\")\n",
    "    else:\n",
    "        print(\"He phuong trinh vo nghiem:\")\n",
    "else:\n",
    "    x = Dx / D\n",
    "    y = Dy / D\n",
    "    print(\"x =\", x)\n",
    "    print(\"y =\", y)"
   ]
  },
  {
   "cell_type": "code",
   "execution_count": 9,
   "id": "6b7634cd-8439-4864-a65f-bbf4b69f7502",
   "metadata": {},
   "outputs": [
    {
     "name": "stdin",
     "output_type": "stream",
     "text": [
      " 5000\n"
     ]
    },
    {
     "name": "stdout",
     "output_type": "stream",
     "text": [
      "so gio la: 1.39, so phut la: 83.33, so giay la: 5000.00\n"
     ]
    }
   ],
   "source": [
    "#bai9\n",
    "a = float(input())\n",
    "gio = a/3600\n",
    "phut = a/60\n",
    "giay = a\n",
    "print(f\"so gio la: {gio:.2f}, so phut la: {phut:.2f}, so giay la: {giay:.2f}\")"
   ]
  },
  {
   "cell_type": "code",
   "execution_count": 17,
   "id": "6fa5488b-9a58-402c-a00f-98bd60cc8d1e",
   "metadata": {},
   "outputs": [
    {
     "name": "stdin",
     "output_type": "stream",
     "text": [
      " 0 0\n",
      " 4\n",
      " 6 8\n"
     ]
    },
    {
     "name": "stdout",
     "output_type": "stream",
     "text": [
      "A khong thuoc duong tron\n"
     ]
    }
   ],
   "source": [
    "#bai10\n",
    "#Gọi O là tâm dg tròn và A là 1 điểm O(x0,y0) A(x,y)\n",
    "x0,y0 = map(float,input().split())\n",
    "R = float(input())\n",
    "x,y = map(float,input().split())\n",
    "OA = ((x-x0)**2+(y-y0)**2)**(1/2)\n",
    "if OA>R:\n",
    "    print(\"A khong thuoc duong tron\")\n",
    "elif OA==R:\n",
    "    print(\"A nam tren duong tron\")\n",
    "else:\n",
    "    print(\"A nam trong duong tron\")"
   ]
  },
  {
   "cell_type": "code",
   "execution_count": 18,
   "id": "1e41d24a-d80f-477b-95f7-3fb14126f8c6",
   "metadata": {},
   "outputs": [
    {
     "name": "stdin",
     "output_type": "stream",
     "text": [
      " 2\n",
      " 4\n"
     ]
    },
    {
     "name": "stdout",
     "output_type": "stream",
     "text": [
      "16.0\n"
     ]
    }
   ],
   "source": [
    "#bai11\n",
    "x = float(input())\n",
    "y = float(input())\n",
    "print(x**y)"
   ]
  },
  {
   "cell_type": "code",
   "execution_count": null,
   "id": "233f1609-4f55-4a19-8d70-75c23c5fae9f",
   "metadata": {},
   "outputs": [],
   "source": []
  }
 ],
 "metadata": {
  "kernelspec": {
   "display_name": "Python 3 (ipykernel)",
   "language": "python",
   "name": "python3"
  },
  "language_info": {
   "codemirror_mode": {
    "name": "ipython",
    "version": 3
   },
   "file_extension": ".py",
   "mimetype": "text/x-python",
   "name": "python",
   "nbconvert_exporter": "python",
   "pygments_lexer": "ipython3",
   "version": "3.13.7"
  }
 },
 "nbformat": 4,
 "nbformat_minor": 5
}
